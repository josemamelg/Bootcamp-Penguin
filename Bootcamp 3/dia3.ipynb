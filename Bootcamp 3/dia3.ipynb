{
 "cells": [
  {
   "attachments": {},
   "cell_type": "markdown",
   "metadata": {},
   "source": [
    "# Funciones"
   ]
  },
  {
   "attachments": {},
   "cell_type": "markdown",
   "metadata": {},
   "source": [
    "## Challenge 1 🤺 - 15m\n",
    "\n",
    "Crear una función que imprima la variable palabra."
   ]
  },
  {
   "cell_type": "code",
   "execution_count": 3,
   "metadata": {},
   "outputs": [
    {
     "name": "stdout",
     "output_type": "stream",
     "text": [
      "palabra\n"
     ]
    }
   ],
   "source": [
    "def palabra():\n",
    "    print(\"palabra\")\n",
    "palabra()\n",
    "\n",
    "\n"
   ]
  },
  {
   "attachments": {},
   "cell_type": "markdown",
   "metadata": {},
   "source": [
    "## Funciones con parametros y argumentos"
   ]
  },
  {
   "attachments": {},
   "cell_type": "markdown",
   "metadata": {},
   "source": [
    "## Challenge 2 🤺 - 15 min\n",
    "Crear una función que reciba dos letras (parámetros) y que verifique si son iguales:\n",
    "\n",
    "1. Si son iguales, imprimir \"Las letras son iguales\".\n",
    "\n",
    "2. De lo contrario, imprimir \"Las letras son diferentes\"."
   ]
  },
  {
   "cell_type": "code",
   "execution_count": 13,
   "metadata": {},
   "outputs": [
    {
     "name": "stdout",
     "output_type": "stream",
     "text": [
      "La letras son diferentes\n"
     ]
    }
   ],
   "source": [
    "def detector_de_letra(uno, dos):\n",
    "    if uno == dos:\n",
    "        print(\"Las letras son iguales\")\n",
    "    else:\n",
    "        print(\"La letras son diferentes\")    \n",
    "\n",
    "letra1 = input(\"Ingrese la primera letra\")\n",
    "letra2 = input(\"Ingrese la segunda letra\")\n",
    "detector_de_letra(letra1, letra2)\n",
    "    \n",
    "\n"
   ]
  },
  {
   "attachments": {},
   "cell_type": "markdown",
   "metadata": {},
   "source": [
    "## Challenge 3 🤺 - 15m\n",
    "\n",
    "Crear una función que reciba dos parámetros (una palabra y un número), y que devuelva True si el número es igual a la cantidad de letras de la palabra. En caso contrario, que devuelva False.\n",
    "\n",
    "Pista: cantidad de letras de una palabra en python"
   ]
  },
  {
   "cell_type": "code",
   "execution_count": 24,
   "metadata": {},
   "outputs": [
    {
     "name": "stdout",
     "output_type": "stream",
     "text": [
      "True\n"
     ]
    }
   ],
   "source": [
    "def cr7(letras, numero):\n",
    "    if len(letras) == numero:\n",
    "        print (True)\n",
    "    else:\n",
    "        print (False)\n",
    "\n",
    "cr7(input(\"Ingrese una palabra\"), int(input(\"Ingrese un numero\")))\n",
    "\n",
    "## Si necesito un input con numero poner int antes\n",
    "\n"
   ]
  },
  {
   "attachments": {},
   "cell_type": "markdown",
   "metadata": {},
   "source": [
    "## Challenge 4 🤺 - 20 min\n",
    "Crear función que revise si una palabra contiene una letra. En caso de que la contenga, retornar la letra entre corchetes []. De lo contrario, retornar solo la letra."
   ]
  },
  {
   "cell_type": "code",
   "execution_count": 22,
   "metadata": {},
   "outputs": [
    {
     "data": {
      "text/plain": [
       "'[r]'"
      ]
     },
     "execution_count": 22,
     "metadata": {},
     "output_type": "execute_result"
    }
   ],
   "source": [
    "def riquelme(palabra, letra):\n",
    "    if letra in palabra:\n",
    "        return f\"[{letra}]\"\n",
    "    else:\n",
    "        return letra\n",
    "riquelme(input(\"Ingrese una palabra\"), input(\"Ingrese una letra\"))\n"
   ]
  },
  {
   "attachments": {},
   "cell_type": "markdown",
   "metadata": {},
   "source": [
    "## Challenge 5 🤺 - 20m\n",
    "\n",
    "Pedir al usuario que ingrese 1 palabra, luego convertir esa palabra a una lista con sus caracteres con list(). Agregar esa lista de caracteres a una lista llamada palabras_ingresadas. Repetir el proceso 3 veces. Cada vez que se agregue una lista de caracteres, imprimir la lista palabras_ingresadas.\n",
    "\n",
    "\n",
    "Ejemplo del resultado esperado:\n",
    "\n",
    "[['c', 'i', 'e', 'l', 'o']]\n",
    " # Al ingresar la primera palabra\n",
    "\n",
    "[['c', 'i', 'e', 'l', 'o'], ['c', 'a', 'l', 'o', 'r']]\n",
    " # Al ingresar la segunda palabra\n",
    "\n",
    "[['c', 'i', 'e', 'l', 'o'], ['c', 'a', 'l', 'o', 'r'], ['n', 'u', 'b', 'e', 's']]\n",
    " # Al ingresar la tercera palabra"
   ]
  },
  {
   "cell_type": "code",
   "execution_count": 5,
   "metadata": {},
   "outputs": [
    {
     "name": "stdout",
     "output_type": "stream",
     "text": [
      "[['h', 'o', 'l', 'a']]\n",
      "[['h', 'o', 'l', 'a'], ['h', 'a', 'l', 'l', 'o']]\n",
      "[['h', 'o', 'l', 'a'], ['h', 'a', 'l', 'l', 'o'], ['o', 'l', 'a']]\n"
     ]
    }
   ],
   "source": [
    "anuel = []\n",
    "ingresar = input(\"Ingrese su palabra\")\n",
    "palabra_list = list(ingresar)\n",
    "\n",
    "anuel.append(palabra_list)\n",
    "print(anuel)\n",
    "\n",
    "ingresar2 = input(\"Ingrese la segunda palabra\")\n",
    "palabrrr = list(ingresar2)\n",
    "\n",
    "anuel.append(palabrrr)\n",
    "\n",
    "print(anuel)\n",
    "\n",
    "ingresar3 = input(\"Ingresa tercera palabra\")\n",
    "palabrarara = list(ingresar3)\n",
    "\n",
    "anuel.append(palabrarara)\n",
    "\n",
    "print(anuel)"
   ]
  },
  {
   "cell_type": "markdown",
   "metadata": {},
   "source": [
    "## Challenge 6 🤺 - 20m\n",
    "\n",
    "Dada la lista de ejemplo: \n",
    "\n",
    "lista = [['h', 'o', 'l', 'i', 's'], ['h', 'e', 'l', 'l', 'o'], ['h', 'a', 'l', 'l', 'o']]\n",
    "\n",
    "Crear una función que imprima una grilla (lista de listas), una línea por cada lista dentro de la lista principal.\n",
    "\n",
    "Ejemplo del resultado esperado:\n",
    "\n",
    "['h', 'o', 'l', 'i', 's']\n",
    "['h', 'e', 'l', 'l', 'o']\n",
    "['h', 'a', 'l', 'l', 'o']"
   ]
  },
  {
   "cell_type": "code",
   "execution_count": 6,
   "metadata": {},
   "outputs": [
    {
     "name": "stdout",
     "output_type": "stream",
     "text": [
      "['h', 'o', 'l', 'a']\n",
      "['c', 'h', 'a', 'u']\n",
      "['m', 'o', 'n', 'g', 'o']\n"
     ]
    }
   ],
   "source": [
    "lista = [list(input()), list(input()), list(input())]\n",
    "\n",
    "\n",
    "def listadelistas():\n",
    "    for letter in lista:\n",
    "        print(letter)\n",
    "listadelistas()"
   ]
  },
  {
   "cell_type": "code",
   "execution_count": 21,
   "metadata": {},
   "outputs": [],
   "source": [
    "def obtener_fila_verificada(palabra_a_encontrar, palabra_ingresada):\n",
    "    cantidad_de_letras_de_palabra_a_encontrar = 5\n",
    "\n",
    "    # Creamos una lista vacia para almacenar el resultado de una linea\n",
    "    letra_verificada = []\n",
    "\n",
    "    # iteramos por cada letra de la palabra ingresada\n",
    "    for posicion in range(cantidad_de_letras_de_palabra_a_encontrar):\n",
    "\n",
    "        letras_son_iguales = palabra_a_encontrar[posicion] == palabra_ingresada[posicion]\n",
    "\n",
    "        letra_existe_en_palabra = palabra_ingresada[posicion] in palabra_a_encontrar\n",
    "\n",
    "        if letras_son_iguales:\n",
    "            letra_verificada.append(\"[\"+palabra_ingresada[posicion] + \"]\")\n",
    "        elif letra_existe_en_palabra:\n",
    "            letra_verificada.append(\"(\"+palabra_ingresada[posicion] + \")\")\n",
    "        else:\n",
    "            letra_verificada.append(palabra_ingresada[posicion])\n",
    "\n",
    "    return letra_verificada"
   ]
  },
  {
   "cell_type": "code",
   "execution_count": null,
   "metadata": {},
   "outputs": [],
   "source": []
  }
 ],
 "metadata": {
  "kernelspec": {
   "display_name": "Python 3",
   "language": "python",
   "name": "python3"
  },
  "language_info": {
   "codemirror_mode": {
    "name": "ipython",
    "version": 3
   },
   "file_extension": ".py",
   "mimetype": "text/x-python",
   "name": "python",
   "nbconvert_exporter": "python",
   "pygments_lexer": "ipython3",
   "version": "3.11.1 (tags/v3.11.1:a7a450f, Dec  6 2022, 19:58:39) [MSC v.1934 64 bit (AMD64)]"
  },
  "orig_nbformat": 4,
  "vscode": {
   "interpreter": {
    "hash": "b91f41160b83ffc59c7e17fa6fd02d637d5dcf1d5e59aa2db87d82178661b954"
   }
  }
 },
 "nbformat": 4,
 "nbformat_minor": 2
}
