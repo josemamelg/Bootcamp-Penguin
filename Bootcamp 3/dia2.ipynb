{
 "cells": [
  {
   "attachments": {},
   "cell_type": "markdown",
   "metadata": {},
   "source": [
    "# Condicionales"
   ]
  },
  {
   "attachments": {},
   "cell_type": "markdown",
   "metadata": {},
   "source": [
    "### Challenge 🤺 - 20m\n",
    "\n",
    "Escribir un programa en el que se pregunte al usuario por una temperatura (en grados Celsius), imprima la temperatura escrita, y luego clasificar la temperatura ingresada en los siguientes niveles:\n",
    "\n",
    "Entre -10 y 18 grados, que imprima \"Fresquete\".\n",
    "Entre 19 y 30 grados, que imprima \"Calor'i\".\n",
    "Entre 31 y 45 grados, que imprima \"Hakuuuuuu\".\n",
    "Para todo lo demás, imprimir \"Ñamano mba'e!\". "
   ]
  },
  {
   "cell_type": "code",
   "execution_count": 7,
   "metadata": {},
   "outputs": [
    {
     "name": "stdout",
     "output_type": "stream",
     "text": [
      "Fresquete\n"
     ]
    }
   ],
   "source": [
    "temperatura = int(input(\"Ingrese su temperatura\"))\n",
    "if temperatura >= -10 and temperatura <= 18:\n",
    "    print(\"Fresquete\")\n",
    "elif temperatura >= 19 and temperatura <= 30:\n",
    "    print(\"Calor'i\")\n",
    "elif temperatura >= 31 and temperatura <= 45:\n",
    "    print(\"Hakuuuuuu\")\n",
    "else: \n",
    "    print(\"Ñamano mba'e\")"
   ]
  },
  {
   "attachments": {},
   "cell_type": "markdown",
   "metadata": {},
   "source": [
    "# Bucle\n"
   ]
  },
  {
   "cell_type": "code",
   "execution_count": 8,
   "metadata": {},
   "outputs": [
    {
     "name": "stdout",
     "output_type": "stream",
     "text": [
      "True\n"
     ]
    }
   ],
   "source": [
    "numero = 3\n",
    "print(numero!=4)"
   ]
  },
  {
   "attachments": {},
   "cell_type": "markdown",
   "metadata": {},
   "source": [
    "### Challenge 🤺 - 15m\n",
    "Escribir un programa que almacene una contraseña en una variable, y pregunte al usuario por la contraseña hasta que introduzca la contraseña correcta.\n",
    "\n",
    "Cuando el usuario ingrese la contrasena correcta, imprimir un mensaje secreto."
   ]
  },
  {
   "cell_type": "code",
   "execution_count": null,
   "metadata": {},
   "outputs": [],
   "source": [
    "contrasena_correcta = 123\n",
    "while True:\n",
    "    numero_ingresado = int(input(\"Ingresar contrasena\"))\n",
    "    if numero_ingresado == contrasena_correcta:\n",
    "        print(\"Correcto\")\n",
    "        break \n",
    "    else:\n",
    "        print(\"Incorrecto\")\n",
    "        \n",
    "    \n",
    "    ## podes probar poner el break al final para entender este tema\n",
    "    ## REPASAR\n",
    "        "
   ]
  },
  {
   "attachments": {},
   "cell_type": "markdown",
   "metadata": {},
   "source": [
    "## Listas\n"
   ]
  },
  {
   "attachments": {},
   "cell_type": "markdown",
   "metadata": {},
   "source": [
    "### Challenge 🤺 - 20m\n",
    "\n",
    "Crear una lista de 5 elementos. Luego, seguir los siguientes pasos.\n",
    "\n",
    "- Agregar un elemento al final de la lista.\n",
    "\n",
    "- Modificar el segundo elemento.\n",
    "\n",
    "- Eliminar el tercer elemento."
   ]
  },
  {
   "cell_type": "code",
   "execution_count": 79,
   "metadata": {},
   "outputs": [
    {
     "name": "stdout",
     "output_type": "stream",
     "text": [
      "['cristiano', 'messi', 'riquelme', 'fabbro', 'benzema']\n",
      "['cristiano', 'messi', 'riquelme', 'fabbro', 'benzema', 'mbappe']\n",
      "['cristiano', 'messi', 'zidane', 'fabbro', 'benzema', 'mbappe']\n",
      "['cristiano', 'messi', 'zidane', 'benzema', 'mbappe']\n"
     ]
    }
   ],
   "source": [
    "lista_jugadores = [\"cristiano\", \"messi\", \"riquelme\",\"fabbro\", \"benzema\"]\n",
    "print(lista_jugadores)\n",
    "     \n",
    "lista_jugadores.append(\"mbappe\")\n",
    "print(lista_jugadores)\n",
    "\n",
    "lista_jugadores[2] = \"zidane\"\n",
    "print(lista_jugadores)\n",
    "\n",
    "lista_jugadores.remove(\"fabbro\")\n",
    "print(lista_jugadores)\n",
    "\n",
    "\n",
    "## remove es valor\n",
    "## pop es indice\n",
    "## usar parentesis en lo que queres modificar"
   ]
  },
  {
   "attachments": {},
   "cell_type": "markdown",
   "metadata": {},
   "source": [
    "## Bucles iterativos"
   ]
  },
  {
   "attachments": {},
   "cell_type": "markdown",
   "metadata": {},
   "source": [
    "### Challenge  - 20m\n",
    "\n",
    "Escribir un programa que itere en un rango de 10 veces. Por cada iteracion multiplicar el iterador por dos e imprimir el resultado."
   ]
  },
  {
   "cell_type": "code",
   "execution_count": 88,
   "metadata": {},
   "outputs": [
    {
     "name": "stdout",
     "output_type": "stream",
     "text": [
      "0\n",
      "2\n",
      "4\n",
      "6\n",
      "8\n",
      "10\n",
      "12\n",
      "14\n",
      "16\n",
      "18\n"
     ]
    }
   ],
   "source": [
    "for iteracion in range(10):\n",
    "    multiplicacion = iteracion * 2\n",
    "    print(multiplicacion)\n"
   ]
  },
  {
   "attachments": {},
   "cell_type": "markdown",
   "metadata": {},
   "source": [
    "### Challenge  - 20m\n",
    "\n",
    "Recorrer los elementos de una lista de marcas e imprimir cada marca solamente si tiene 6 letras o más."
   ]
  },
  {
   "cell_type": "code",
   "execution_count": 81,
   "metadata": {},
   "outputs": [
    {
     "name": "stdout",
     "output_type": "stream",
     "text": [
      "samsung\n"
     ]
    }
   ],
   "source": [
    "lista_marcas = [\"dell\", \"apple\", \"samsung\",\"hp\"]\n",
    "for marca in lista_marcas:\n",
    "    longitud = len(marca)\n",
    "    if longitud >= 6:\n",
    "        print(marca)"
   ]
  },
  {
   "attachments": {},
   "cell_type": "markdown",
   "metadata": {},
   "source": [
    "### Challenge  - 15m\n",
    "\n",
    "Solicitar al usuario que ingrese una frase.\n",
    "\n",
    "Imprimir un mensaje cada vez que se encuentre una letra \"o\"."
   ]
  },
  {
   "cell_type": "code",
   "execution_count": 83,
   "metadata": {},
   "outputs": [
    {
     "name": "stdout",
     "output_type": "stream",
     "text": [
      "O detectada\n",
      "O detectada\n"
     ]
    }
   ],
   "source": [
    "ingresar_frase = input(\"Ingresa una frase\")\n",
    "for letra in ingresar_frase:\n",
    "    if letra == \"o\":\n",
    "        print(\"O detectada\")\n",
    "        \n",
    "\n"
   ]
  }
 ],
 "metadata": {
  "kernelspec": {
   "display_name": "Python 3.11.1 64-bit",
   "language": "python",
   "name": "python3"
  },
  "language_info": {
   "codemirror_mode": {
    "name": "ipython",
    "version": 3
   },
   "file_extension": ".py",
   "mimetype": "text/x-python",
   "name": "python",
   "nbconvert_exporter": "python",
   "pygments_lexer": "ipython3",
   "version": "3.11.1 (tags/v3.11.1:a7a450f, Dec  6 2022, 19:58:39) [MSC v.1934 64 bit (AMD64)]"
  },
  "orig_nbformat": 4,
  "vscode": {
   "interpreter": {
    "hash": "b91f41160b83ffc59c7e17fa6fd02d637d5dcf1d5e59aa2db87d82178661b954"
   }
  }
 },
 "nbformat": 4,
 "nbformat_minor": 2
}
