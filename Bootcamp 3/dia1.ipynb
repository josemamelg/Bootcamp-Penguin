{
 "cells": [
  {
   "cell_type": "markdown",
   "metadata": {},
   "source": [
    "# Dia 1"
   ]
  },
  {
   "cell_type": "code",
   "execution_count": 1,
   "metadata": {},
   "outputs": [
    {
     "name": "stdout",
     "output_type": "stream",
     "text": [
      "Hola mundo\n"
     ]
    }
   ],
   "source": [
    "print(\"Hola mundo\")"
   ]
  },
  {
   "cell_type": "code",
   "execution_count": 13,
   "metadata": {},
   "outputs": [
    {
     "name": "stdout",
     "output_type": "stream",
     "text": [
      "Manzana\n",
      "5\n"
     ]
    }
   ],
   "source": [
    "fruta = \"Manzana\"\n",
    "print(fruta)\n",
    "cantidad_de_frutas = 5\n",
    "print(cantidad_de_frutas)\n",
    "\n"
   ]
  },
  {
   "cell_type": "code",
   "execution_count": null,
   "metadata": {},
   "outputs": [],
   "source": [
    "cantidad_de_frutas = 10 #int\n",
    "precio_usd = 1.57 #Numero decimal\n",
    "fruta = \"Manzana\" #Texto\n",
    "abierto = True\n"
   ]
  },
  {
   "cell_type": "markdown",
   "metadata": {},
   "source": [
    "## Operacioes"
   ]
  },
  {
   "cell_type": "code",
   "execution_count": 23,
   "metadata": {},
   "outputs": [
    {
     "name": "stdout",
     "output_type": "stream",
     "text": [
      "15000\n",
      "12000\n",
      "24000\n",
      "12000.0\n"
     ]
    }
   ],
   "source": [
    "precio_total = 7000 + 6000 + 2000\n",
    "print (precio_total)\n",
    "\n",
    "precio_con_descuento = precio_total - 3000\n",
    "print(precio_con_descuento)\n",
    "\n",
    "total_con_mi_socio = precio_con_descuento * 2\n",
    "print (total_con_mi_socio)\n",
    "\n",
    "precio_individual = total_con_mi_socio / 2\n",
    "print(precio_individual)\n",
    "\n"
   ]
  },
  {
   "cell_type": "markdown",
   "metadata": {},
   "source": [
    "## Challenge 🤺 - 15m\n",
    "\n",
    "Suma: asignar dos números en dos variables diferentes cantidad_de_manzanas y cantidad_de_naranjas. Luego sumar ambas variables en cantidad_de_frutas. Imprimir la última variable.\n",
    "\n",
    "Resta: asignar un valor numérico a la variable frutas_vendidas. Luego, asignar la resta entre cantidad_de_frutas y frutas_vendidas a la variable frutas_restantes. Imprimir la última variable."
   ]
  },
  {
   "cell_type": "code",
   "execution_count": 25,
   "metadata": {},
   "outputs": [
    {
     "name": "stdout",
     "output_type": "stream",
     "text": [
      "15\n",
      "11\n"
     ]
    }
   ],
   "source": [
    "cantidad_de_manzanas = 10\n",
    "cantidad_de_naranjas = 5\n",
    "cantidadd_de_frutas = cantidad_de_manzanas + cantidad_de_naranjas\n",
    "print (cantidadd_de_frutas)\n",
    "\n",
    "frutas_vendidas = 4\n",
    "frutas_restantes = cantidadd_de_frutas - frutas_vendidas\n",
    "print (frutas_restantes)\n"
   ]
  },
  {
   "cell_type": "markdown",
   "metadata": {},
   "source": [
    "## Challenge 🤺 - 15m\n",
    "\n",
    "Asignar el nombre y el apellido de tu compañera/o a las variables nombre y apellido. Luego, imprimir una frase, utilizando las variables.\n",
    "EJEMPLO: \"Hola. Me llamo Martin Quintana. Mucho gusto.\"\n"
   ]
  },
  {
   "cell_type": "code",
   "execution_count": 28,
   "metadata": {},
   "outputs": [
    {
     "name": "stdout",
     "output_type": "stream",
     "text": [
      "Hola. Me llamo Alan Fretes. Mucho gusto.\n"
     ]
    }
   ],
   "source": [
    "nombre = \"Alan\"\n",
    "apellido = \"Fretes\"\n",
    "\n",
    "print (f\"Hola. Me llamo {nombre} {apellido}. Mucho gusto.\")"
   ]
  },
  {
   "cell_type": "markdown",
   "metadata": {},
   "source": [
    "## Obteniendo datos del usuario"
   ]
  },
  {
   "cell_type": "markdown",
   "metadata": {},
   "source": [
    "### Challenge 🤺 - 15m\n",
    "\n",
    "Solicitar al usuario ingresar dos números y almacenarlos en dos variables. Luego, imprimir la suma de los dos números."
   ]
  },
  {
   "cell_type": "code",
   "execution_count": 27,
   "metadata": {},
   "outputs": [
    {
     "name": "stdout",
     "output_type": "stream",
     "text": [
      "cerro gana lali en 2023\n"
     ]
    }
   ],
   "source": [
    "precio_manzana = int(input(\"ingrese el valor de manzana\"))\n",
    "precio_naranja = int(input(\"ingrese el valor de la naranja\"))\n",
    "precio_total = precio_manzana + precio_naranja\n",
    "print (f\"cerro gana lali en {precio_total}\")"
   ]
  },
  {
   "attachments": {},
   "cell_type": "markdown",
   "metadata": {},
   "source": [
    "## Challenge 🤺 - 15m\n",
    "\n",
    "Crear una función de un proceso que se les ocurra que tenga varios pasos.\n",
    "Ejecutar la función 3 veces."
   ]
  },
  {
   "cell_type": "code",
   "execution_count": 34,
   "metadata": {},
   "outputs": [
    {
     "name": "stdout",
     "output_type": "stream",
     "text": [
      "ir a la casa\n",
      "abrir la puerta\n",
      "entrar\n",
      "cerrar la puerta\n"
     ]
    }
   ],
   "source": [
    "def entrar_a_la_casa():\n",
    "    print(\"ir a la casa\")\n",
    "    print(\"abrir la puerta\")\n",
    "    print(\"entrar\")\n",
    "    print(\"cerrar la puerta\")\n",
    "entrar_a_la_casa()\n"
   ]
  },
  {
   "cell_type": "code",
   "execution_count": null,
   "metadata": {},
   "outputs": [],
   "source": []
  },
  {
   "cell_type": "code",
   "execution_count": 45,
   "metadata": {},
   "outputs": [
    {
     "name": "stdout",
     "output_type": "stream",
     "text": [
      "helado del tipo Milkshake\n",
      "el precio es: 12000 gs\n"
     ]
    }
   ],
   "source": [
    "##precio_cono = int(input(\"ingrese precio del cono\"))\n",
    "##precio_milkshake = int(input(\"ingrese precio del milkshake\"))\n",
    "\n",
    "def comprar_helado (tipo, precio):\n",
    "    print(f\"helado del tipo {tipo}\")\n",
    "    print(f\"el precio es: {precio}\")\n",
    "tipo_de_helado = input(\"tipo de helado:\")\n",
    "precio_del_helado = input(\"El precio es\")\n",
    "comprar_helado(tipo_de_helado, precio_del_helado)\n",
    "\n",
    "## el def es una funcion, en la que pones los parametros en los parentesis\n",
    "## el input es para que te salga la casilla esa de rellenar\n",
    "\n",
    "\n"
   ]
  },
  {
   "attachments": {},
   "cell_type": "markdown",
   "metadata": {},
   "source": [
    "## Challenge 🤺 - 15m\n",
    "\n",
    "Crear una funcion que reciba dos parametros ingresados por el usuario que seran nombre y edad. Luego, imprimir el nombre y la edad."
   ]
  },
  {
   "cell_type": "code",
   "execution_count": 49,
   "metadata": {},
   "outputs": [
    {
     "name": "stdout",
     "output_type": "stream",
     "text": [
      "el nombre del usuario es Josema\n",
      "la edad del usuario es 16\n"
     ]
    }
   ],
   "source": [
    "def usuario(nombre, edad) :\n",
    "    print (f\"el nombre del usuario es {nombre}\")\n",
    "    print (f\"la edad del usuario es {edad}\")\n",
    "nombre_del_usuario = input(\"el nombre del usuario es:\")\n",
    "edad_del_usuario = input(\"la edad de usuario es:\")\n",
    "\n",
    "usuario(nombre_del_usuario, edad_del_usuario)"
   ]
  }
 ],
 "metadata": {
  "kernelspec": {
   "display_name": "Python 3.9.12 ('base')",
   "language": "python",
   "name": "python3"
  },
  "language_info": {
   "codemirror_mode": {
    "name": "ipython",
    "version": 3
   },
   "file_extension": ".py",
   "mimetype": "text/x-python",
   "name": "python",
   "nbconvert_exporter": "python",
   "pygments_lexer": "ipython3",
   "version": "3.9.12 (main, Apr  4 2022, 05:22:27) [MSC v.1916 64 bit (AMD64)]"
  },
  "orig_nbformat": 4,
  "vscode": {
   "interpreter": {
    "hash": "5ae58900cfbb8c43ab3495913814b7cf26024f51651a94ce8bf64d6111688e8d"
   }
  }
 },
 "nbformat": 4,
 "nbformat_minor": 2
}
