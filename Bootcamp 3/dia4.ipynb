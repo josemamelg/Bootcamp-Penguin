{
 "cells": [
  {
   "attachments": {},
   "cell_type": "markdown",
   "metadata": {},
   "source": [
    "## Challenge \n",
    "\n",
    "Crear dos class de animales que tengan atributos de clase y de instancia.\n",
    "\n",
    "- Atributos de clase: especie.\n",
    "- Atributos de instancia: nombre & color.\n",
    "Luego, crear nuevos objetos a partir de las nuevas class. Imprimir el nombre y el color de los animales en una frase que diga: \"Me llamo {nombre} y soy un ave de color {color}\"."
   ]
  },
  {
   "cell_type": "code",
   "execution_count": 2,
   "metadata": {},
   "outputs": [],
   "source": [
    "class Mascota:\n",
    "    ojos : 2\n",
    "    patas : 4 \n",
    "\n",
    "    def __init__(self,nombre, apellido):\n",
    "        self.nombre = nombre\n",
    "        self.apellido = apellido\n",
    "\n",
    "mi_perro = Mascota(\"Linda\", \"Melgarejo\")\n",
    "print(f\"Mi perro se llama {mi_perro.nombre}, y su apellido es {mi_perro.apellido}\")\n"
   ]
  },
  {
   "attachments": {},
   "cell_type": "markdown",
   "metadata": {},
   "source": [
    "## Challenge \n",
    "Crear dos métodos por animal, que sea hablar y moverse.\n",
    "\n",
    "En el método hablar, imprimir: \"Cuando hablo, digo X\".\n",
    "En el método mover, imprimir: \"Cuando me muevo, hago X\".\n",
    "\n",
    "X debe ser algo específico de ese animal"
   ]
  },
  {
   "cell_type": "code",
   "execution_count": null,
   "metadata": {},
   "outputs": [],
   "source": [
    "class Caballo:\n",
    "    cola = \"grande\"\n",
    "\n",
    "    def __init__(self,nombre, apellido):\n",
    "        self.nombre = nombre\n",
    "        self.apellido = apellido\n",
    "\n",
    "    def hablar(self, decir):\n",
    "        print(f\"Cuando hablo, digo {decir}\")\n",
    "\n",
    "    def moverse(self, direccion):\n",
    "        print(f\"Cuando me muevo me voy {direccion}\")\n",
    "\n",
    "bodoque = Caballo(\"Bodoque\", \"Caino\")\n",
    "bodoque.hablar(\"soy un Caballo homosexual de las montañas\")\n",
    "bodoque.moverse(\"a la puta\")\n"
   ]
  },
  {
   "cell_type": "code",
   "execution_count": null,
   "metadata": {},
   "outputs": [],
   "source": [
    "class Operaciones():\n",
    "    def sumar(self, a, b):\n",
    "        return a + b\n",
    "    def restar(self, a, b):\n",
    "        return a - b\n",
    "    def multiplicar(self, a, b):\n",
    "        return a * b\n",
    "    def dividir(self, a, b):\n",
    "        return a / b\n",
    "    sumar = "
   ]
  },
  {
   "attachments": {},
   "cell_type": "markdown",
   "metadata": {},
   "source": [
    "## Challenge \n",
    "Definir una clase madre que herede a sus clases hijas dos atributos de instancia. Mostrar ambos atributos en pantalla desde los objetos de las clases hijas.\n",
    "\n",
    "Observación: Editar las clases hijas para que no se inicialicen."
   ]
  },
  {
   "cell_type": "code",
   "execution_count": 1,
   "metadata": {},
   "outputs": [
    {
     "name": "stdout",
     "output_type": "stream",
     "text": [
      "Vero\n",
      "Duarte\n",
      "Jaz\n",
      "Monga\n"
     ]
    }
   ],
   "source": [
    "class Madre():\n",
    "    ojos = \"marrones\"\n",
    "    cabello = \"negro\"\n",
    "    def __init__(self, nombre, apellido):\n",
    "        \n",
    "        self.nombre = nombre\n",
    "        self.apellido = apellido\n",
    "\n",
    "    def hablar(self):\n",
    "         return \"Holiwis\"\n",
    "mami = Madre(\"Vero\", \"Duarte\")\n",
    "\n",
    "class Hija(Madre):        \n",
    "    def caminar(self):\n",
    "        return \"pasitos\"\n",
    "\n",
    "    print(mami.nombre)\n",
    "    print(mami.apellido)\n",
    "michita = Hija(\"Jaz\", \"Monga\")\n",
    "print(michita.nombre)\n",
    "print(michita.apellido)\n",
    "\n",
    "\n"
   ]
  },
  {
   "attachments": {},
   "cell_type": "markdown",
   "metadata": {},
   "source": [
    "## Challenge 1 \n",
    "Escribir un programa que cree un diccionario vacío y lo vaya llenado con información sobre una persona (por ejemplo nombre, edad, sexo, teléfono, correo electrónico, etc.) que se le pida al usuario. Cada vez que se añada un nuevo dato debe imprimirse el contenido del diccionario."
   ]
  },
  {
   "attachments": {},
   "cell_type": "markdown",
   "metadata": {},
   "source": [
    "## Challenge 2 \n",
    "\n",
    "Challenge 2 \n",
    "Crear una tarjeta personal. El usuario (mediante input) puede elegir:\n",
    "\n",
    "1. Crear datos nuevos\n",
    "2. Modificar datos\n",
    "3. Eliminar datos"
   ]
  },
  {
   "cell_type": "code",
   "execution_count": 3,
   "metadata": {},
   "outputs": [
    {
     "name": "stdout",
     "output_type": "stream",
     "text": [
      "\n",
      "1. Crear datos nuevos\n",
      "2. Modificar datos\n",
      "3. Eliminar datos\n",
      "\n",
      "Usted selecciono la opcion de crear datos nuevos.\n",
      "{}\n",
      "\n",
      "Salio con exito del programa \n",
      "\n"
     ]
    }
   ],
   "source": [
    "mi_dicc = {}\n",
    "def bucle_dicc():\n",
    "    key = input(\"Ingresar una key\")\n",
    "    mi_dicc[key] = input(\"Agregue un value al diccionario\")\n",
    "\n",
    "def bucle_dicc_mod():\n",
    "    key = input(\"Esciba la key a editar.\")\n",
    "    mi_dicc[key] = input(\"Escriba el nuevo value \")\n",
    "\n",
    "def bucle_dicc_elim():\n",
    "    key = input(\"Esciba la key a eliminar.\")\n",
    "    del mi_dicc[key]\n",
    "print(\"\"\"\n",
    "1. Crear datos nuevos\n",
    "2. Modificar datos\n",
    "3. Eliminar datos\n",
    "\"\"\")\n",
    "opcion = 0\n",
    "\n",
    "while True:\n",
    "    opcion = int(input(\"Escoja una opcion de la lista\"))\n",
    "    if opcion == 1:\n",
    "        print(\"Usted selecciono la opcion de crear datos nuevos.\")\n",
    "        bucle_dicc()\n",
    "    elif opcion == 2:\n",
    "        print(\"Usted selecciono la opcion de modificar datos.\")\n",
    "        bucle_dicc_mod()\n",
    "    elif opcion == 3:\n",
    "        bucle_dicc_elim()\n",
    "    elif opcion == 4:\n",
    "        print(mi_dicc)\n",
    "        print(\"\\nSalio con exito del programa \\n\")\n",
    "        break\n",
    "    else:\n",
    "        print(\"Numero invalido escoja otra opcion\")\n",
    "\n",
    "\n"
   ]
  }
 ],
 "metadata": {
  "kernelspec": {
   "display_name": "Python 3",
   "language": "python",
   "name": "python3"
  },
  "language_info": {
   "codemirror_mode": {
    "name": "ipython",
    "version": 3
   },
   "file_extension": ".py",
   "mimetype": "text/x-python",
   "name": "python",
   "nbconvert_exporter": "python",
   "pygments_lexer": "ipython3",
   "version": "3.11.1"
  },
  "orig_nbformat": 4,
  "vscode": {
   "interpreter": {
    "hash": "b91f41160b83ffc59c7e17fa6fd02d637d5dcf1d5e59aa2db87d82178661b954"
   }
  }
 },
 "nbformat": 4,
 "nbformat_minor": 2
}
